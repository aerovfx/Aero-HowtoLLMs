{
 "cells": [
  {
   "cell_type": "code",
   "execution_count": 6,
   "metadata": {},
   "outputs": [
    {
     "name": "stdout",
     "output_type": "stream",
     "text": [
      "\n",
      "\u001b[1m[\u001b[0m\u001b[34;49mnotice\u001b[0m\u001b[1;39;49m]\u001b[0m\u001b[39;49m A new release of pip is available: \u001b[0m\u001b[31;49m24.3.1\u001b[0m\u001b[39;49m -> \u001b[0m\u001b[32;49m25.0\u001b[0m\n",
      "\u001b[1m[\u001b[0m\u001b[34;49mnotice\u001b[0m\u001b[1;39;49m]\u001b[0m\u001b[39;49m To update, run: \u001b[0m\u001b[32;49mpython3.11 -m pip install --upgrade pip\u001b[0m\n"
     ]
    }
   ],
   "source": [
    "! pip install -qU openai datasets"
   ]
  },
  {
   "cell_type": "code",
   "execution_count": 4,
   "metadata": {},
   "outputs": [],
   "source": [
    "import getpass\n",
    "from openai import OpenAI\n"
   ]
  },
  {
   "cell_type": "code",
   "execution_count": 8,
   "metadata": {},
   "outputs": [],
   "source": [
    "import os\n",
    "os.environ['OPENAI_API_KEY'] = getpass.getpass('Lấy API key nhập vào đây')"
   ]
  },
  {
   "cell_type": "code",
   "execution_count": 10,
   "metadata": {},
   "outputs": [
    {
     "data": {
      "application/vnd.jupyter.widget-view+json": {
       "model_id": "37b37585984c4c4fa8df1940bf9423df",
       "version_major": 2,
       "version_minor": 0
      },
      "text/plain": [
       "README.md:   0%|          | 0.00/881 [00:00<?, ?B/s]"
      ]
     },
     "metadata": {},
     "output_type": "display_data"
    },
    {
     "data": {
      "application/vnd.jupyter.widget-view+json": {
       "model_id": "0e743065b147446f9125c0607f02f680",
       "version_major": 2,
       "version_minor": 0
      },
      "text/plain": [
       "(…)journey_prompts_90thpercentilelength.csv:   0%|          | 0.00/153M [00:00<?, ?B/s]"
      ]
     },
     "metadata": {},
     "output_type": "display_data"
    },
    {
     "data": {
      "application/vnd.jupyter.widget-view+json": {
       "model_id": "d420045325684aa0873157da3c74b418",
       "version_major": 2,
       "version_minor": 0
      },
      "text/plain": [
       "Generating train split:   0%|          | 0/94438 [00:00<?, ? examples/s]"
      ]
     },
     "metadata": {},
     "output_type": "display_data"
    }
   ],
   "source": [
    "from datasets import load_dataset\n",
    "dataset = load_dataset(\"gaodrew/midjourney-prompts-highquality\",split=\"train\")\n",
    "\n",
    "selected_dataset = dataset.select(range(1000))"
   ]
  },
  {
   "cell_type": "code",
   "execution_count": 13,
   "metadata": {},
   "outputs": [],
   "source": [
    "import re\n",
    "endhance_promts_raw = selected_dataset['content']\n",
    "prompt_pairs = []\n",
    "def extract_prompts(content):\n",
    "    match = re.findall(r'(?<=Prompt: ).*?(?=\\n)', content)\n",
    "    if match:\n",
    "        extracted_prompts = match.group(1)\n",
    "        return extracted_prompts\n",
    "    \n",
    "for text in endhance_promts_raw:\n",
    "    prompt_pairs.append( {\n",
    "        \"extract_prompts\": extract_prompts(text)\n",
    "    })\n"
   ]
  },
  {
   "cell_type": "code",
   "execution_count": 16,
   "metadata": {},
   "outputs": [
    {
     "data": {
      "application/vnd.jupyter.widget-view+json": {
       "model_id": "1b5f667bfdd545238995a62a378a2040",
       "version_major": 2,
       "version_minor": 0
      },
      "text/plain": [
       "  0%|          | 0/2 [00:00<?, ?it/s]"
      ]
     },
     "metadata": {},
     "output_type": "display_data"
    }
   ],
   "source": [
    "from openai import OpenAI\n",
    "from tqdm.auto import tqdm\n",
    "import json\n",
    "import time\n",
    "from tenacity import retry, stop_after_attempt, wait_exponential\n",
    "\n",
    "client = OpenAI()\n",
    "\n",
    "@retry(stop=stop_after_attempt(5), wait=wait_exponential(multiplier=1, min=2, max=10))\n",
    "def get_simple_prompt(enhanced_prompt):\n",
    "    response = client.chat.completions.create(\n",
    "        model=\"gpt-3.5-turbo\",\n",
    "        messages=[\n",
    "            {\"role\": \"system\", \"content\": \"You are a customer service representative helping a customer with a problem.\"},\n",
    "            {\"role\": \"user\", \"content\": f\"ENHANCE PROMPT: {enhanced_prompt}; SIMPLE BASIC PROMPT:\"}\n",
    "        ]\n",
    "    )\n",
    "    return response.choices[0].message.content\n",
    "\n",
    "prompt_pairs = [\n",
    "    {\"extracted_prompts\": \"How can I reset my password?\"},\n",
    "    {\"extracted_prompts\": \"What are your refund policies?\"}\n",
    "]\n",
    "\n",
    "for prompt in tqdm(prompt_pairs):\n",
    "    try:\n",
    "        prompt['simple_prompt'] = get_simple_prompt(prompt['extracted_prompts'])\n",
    "    except Exception as e:\n",
    "        prompt['simple_prompt'] = f\"Error: {str(e)}\"\n",
    "\n",
    "with open('simple_prompts.json', 'w') as f:\n",
    "    json.dump(prompt_pairs, f, indent=4)\n",
    "\n",
    "# Uncomment the following lines if running in Google Colab\n",
    "# from google.colab import files\n",
    "# files.download('simple_prompts.json')"
   ]
  },
  {
   "cell_type": "code",
   "execution_count": 22,
   "metadata": {},
   "outputs": [],
   "source": [
    "import json\n",
    "from typing import List, Dict\n",
    "\n",
    "FILE_PATH = \"training_data.jsonl\"\n",
    "\n",
    "def save_training_data(data: List[Dict], output_file: str = FILE_PATH):\n",
    "    \"\"\"\n",
    "    Save training data to a JSONL file (JSON Lines format)\n",
    "\n",
    "    Args:\n",
    "    data: List[Dict]: List of dictionaries containing the training data\n",
    "    output_file: str: Output file path\n",
    "    \"\"\"\n",
    "    with open(output_file, 'a') as f:\n",
    "        for item in data:\n",
    "            f.write(json.dumps(item) + \"\\n\")\n",
    "\n",
    "# Load existing data from JSONL file if it exists\n",
    "def load_training_data(file_path: str = FILE_PATH) -> List[Dict]:\n",
    "    try:\n",
    "        with open(file_path, 'r') as f:\n",
    "            return [json.loads(line) for line in f]\n",
    "    except (FileNotFoundError, json.JSONDecodeError):\n",
    "        return []\n",
    "\n",
    "# Example of adding new data\n",
    "def add_training_data(new_data: List[Dict]):\n",
    "    existing_data = load_training_data()\n",
    "    existing_data.extend(new_data)\n",
    "    save_training_data(new_data)  # Chỉ ghi dữ liệu mới, không ghi lại toàn bộ file\n",
    "\n",
    "# Example usage\n",
    "prompt_pairs = [\n",
    "    {\"question\": \"How to reset my password?\", \"answer\": \"Go to settings and click reset password.\"},\n",
    "    {\"question\": \"What is the refund policy?\", \"answer\": \"You can request a refund within 30 days.\"}\n",
    "]\n",
    "\n",
    "add_training_data(prompt_pairs)"
   ]
  },
  {
   "cell_type": "code",
   "execution_count": 24,
   "metadata": {},
   "outputs": [
    {
     "data": {
      "text/plain": [
       "[{'role': 'system',\n",
       "  'content': 'You are a customer service representative helping a customer with a problem.'},\n",
       " {'role': 'user',\n",
       "  'content': 'ENHANCE PROMPT: How to reset my password?; SIMPLE BASIC PROMPT: Go to settings and click reset password.'}]"
      ]
     },
     "execution_count": 24,
     "metadata": {},
     "output_type": "execute_result"
    }
   ],
   "source": [
    "example_data = prompt_pairs[0]\n",
    "\n",
    "message =[{\"role\": \"system\", \"content\": \"You are a customer service representative helping a customer with a problem.\"},\n",
    "          {\"role\": \"user\", \"content\": f\"ENHANCE PROMPT: {example_data['question']}; SIMPLE BASIC PROMPT: {example_data['answer']}\"}]\n",
    "\n",
    "message"
   ]
  }
 ],
 "metadata": {
  "kernelspec": {
   "display_name": "Python 3",
   "language": "python",
   "name": "python3"
  },
  "language_info": {
   "codemirror_mode": {
    "name": "ipython",
    "version": 3
   },
   "file_extension": ".py",
   "mimetype": "text/x-python",
   "name": "python",
   "nbconvert_exporter": "python",
   "pygments_lexer": "ipython3",
   "version": "3.11.11"
  }
 },
 "nbformat": 4,
 "nbformat_minor": 2
}

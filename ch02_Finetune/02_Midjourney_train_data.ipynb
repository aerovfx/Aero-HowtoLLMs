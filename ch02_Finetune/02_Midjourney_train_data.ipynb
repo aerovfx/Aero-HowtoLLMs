{
 "cells": [
  {
   "cell_type": "markdown",
   "metadata": {},
   "source": [
    "## 1\n",
    "- ✅ Lệnh này giúp cài đặt hoặc cập nhật thư viện openai và datasets trong môi trường làm việc.\n",
    "- ✅ -qU giúp quá trình cài đặt diễn ra nhanh gọn mà không hiển thị quá nhiều thông tin.\n",
    "- ✅ Dùng được trên Google Colab, Jupyter Notebook hoặc môi trường terminal (bỏ !).\n"
   ]
  },
  {
   "cell_type": "code",
   "execution_count": 41,
   "metadata": {},
   "outputs": [
    {
     "name": "stdout",
     "output_type": "stream",
     "text": [
      "\n",
      "\u001b[1m[\u001b[0m\u001b[34;49mnotice\u001b[0m\u001b[1;39;49m]\u001b[0m\u001b[39;49m A new release of pip is available: \u001b[0m\u001b[31;49m24.3.1\u001b[0m\u001b[39;49m -> \u001b[0m\u001b[32;49m25.0\u001b[0m\n",
      "\u001b[1m[\u001b[0m\u001b[34;49mnotice\u001b[0m\u001b[1;39;49m]\u001b[0m\u001b[39;49m To update, run: \u001b[0m\u001b[32;49mpython3.11 -m pip install --upgrade pip\u001b[0m\n"
     ]
    }
   ],
   "source": [
    "# Cài đặt thư viện cần thiết\n",
    "! pip install -qU openai datasets  "
   ]
  },
  {
   "cell_type": "markdown",
   "metadata": {},
   "source": [
    "## 2\n",
    "- ✅ getpass: Dùng để nhập thông tin nhạy cảm như API key mà không hiển thị trên màn hình.\n",
    "- ✅ openai: Thư viện để gọi API GPT-3.5, GPT-4 từ OpenAI."
   ]
  },
  {
   "cell_type": "code",
   "execution_count": 4,
   "metadata": {},
   "outputs": [],
   "source": [
    "import getpass  # Thư viện giúp nhập mật khẩu hoặc API key một cách bảo mật\n",
    "from openai import OpenAI  # Thư viện OpenAI để gọi API GPT"
   ]
  },
  {
   "cell_type": "code",
   "execution_count": 42,
   "metadata": {},
   "outputs": [],
   "source": [
    "import os  # Thư viện cung cấp các chức năng tương tác với hệ điều hành\n",
    "\n",
    "# Nhắc người dùng nhập API key một cách bảo mật (không hiển thị khi nhập)\n",
    "os.environ['OPENAI_API_KEY'] = getpass.getpass('Lấy API key nhập vào đây: ')  "
   ]
  },
  {
   "cell_type": "markdown",
   "metadata": {},
   "source": [
    "## 3\n",
    "- ✅ load_dataset(\"gaodrew/midjourney-prompts-highquality\", split=\"train\")\n",
    "\t•\tTải dataset từ Hugging Face (gaodrew/midjourney-prompts-highquality).\n",
    "\t•\tChỉ lấy phần dữ liệu train.\n",
    "\n",
    "- ✅ dataset.select(range(1000))\n",
    "\t•\tChọn 1000 mẫu đầu tiên từ tập dữ liệu.\n",
    "\t•\tGiúp giảm dung lượng khi xử lý dữ liệu lớn.\n",
    "\n",
    "- Lợi ích:\n",
    "\n",
    "✔️ Nhanh hơn: Chỉ lấy 1000 mẫu thay vì toàn bộ dataset.\n",
    "✔️ Dễ kiểm soát: Giúp kiểm tra dữ liệu trước khi xử lý toàn bộ."
   ]
  },
  {
   "cell_type": "code",
   "execution_count": 25,
   "metadata": {},
   "outputs": [],
   "source": [
    "from datasets import load_dataset  # Import hàm load_dataset từ thư viện datasets (Hugging Face)\n",
    "\n",
    "# Tải tập dữ liệu \"midjourney-prompts-highquality\" từ Hugging Face\n",
    "# Tham số \"split='train'\" chỉ tải phần dữ liệu huấn luyện\n",
    "dataset = load_dataset(\"gaodrew/midjourney-prompts-highquality\", split=\"train\")\n",
    "\n",
    "# Chọn 1000 mẫu đầu tiên từ tập dữ liệu để sử dụng\n",
    "selected_dataset = dataset.select(range(1000))  "
   ]
  },
  {
   "cell_type": "markdown",
   "metadata": {},
   "source": [
    "## 4\n",
    "- 🔹 Chức năng của code:\n",
    "-\t•\tTrích xuất nội dung “Prompt” từ tập dữ liệu selected_dataset.\n",
    "-\t•\tLưu danh sách các prompt vào prompt_pairs dưới dạng danh sách từ điển.\n",
    "-\t•\tDùng biểu thức chính quy (re) để tìm các đoạn văn bản bắt đầu bằng \"Prompt: \" và kết thúc bằng dấu xuống dòng (\\n)."
   ]
  },
  {
   "cell_type": "code",
   "execution_count": 64,
   "metadata": {},
   "outputs": [],
   "source": [
    "import re  # Thư viện hỗ trợ xử lý chuỗi bằng biểu thức chính quy (regex)\n",
    "\n",
    "# Lấy danh sách nội dung từ cột 'content' trong dataset đã chọn\n",
    "enhanced_prompts_raw = selected_dataset['content']\n",
    "\n",
    "# Danh sách chứa các prompt sau khi trích xuất\n",
    "prompt_pairs = []\n",
    "\n",
    "def extract_prompts(content):\n",
    "    \"\"\"\n",
    "    Hàm trích xuất nội dung sau từ \"Prompt: \" trong chuỗi văn bản.\n",
    "    \n",
    "    Args:\n",
    "        content (str): Chuỗi văn bản đầu vào chứa prompt.\n",
    "    \n",
    "    Returns:\n",
    "        str: Nội dung prompt được trích xuất hoặc None nếu không tìm thấy.\n",
    "    \"\"\"\n",
    "    match = re.search(r\"\\*\\*(.*?)\\*\\*\", text)  # Tìm đoạn văn bản sau \"Prompt: \" đến ký tự xuống dòng\n",
    "    \n",
    "    if match:\n",
    "        extracted_prompt = match.group(1)\n",
    "        return extracted_prompt  # Lấy nội dung tìm thấy từ regex\n",
    "    return None  # Trả về None nếu không có prompt nào được tìm thấy\n",
    "\n",
    "# Lặp qua từng đoạn văn bản trong tập dữ liệu và trích xuất prompt\n",
    "for text in enhanced_prompts_raw:\n",
    "    prompt_pairs.append({\n",
    "        \"enhanced_prompts\": extract_prompts(text)  # Lưu nội dung prompt vào danh sách\n",
    "    })"
   ]
  },
  {
   "cell_type": "markdown",
   "metadata": {},
   "source": [
    " ## 5\n",
    "- 🔹 Chức năng của chương trình:\n",
    "-\t•\tGọi OpenAI API để tạo phiên bản đơn giản của các prompt đã trích xuất.\n",
    "-\t•\tTự động retry nếu gặp lỗi API (dùng tenacity).\n",
    "-\t•\tHiển thị tiến trình khi xử lý nhiều prompt (dùng tqdm).\n",
    "-\t•\tLưu kết quả vào file JSON để sử dụng sau này.\n",
    "-\t•\t(Tùy chọn) Tải file JSON về máy nếu chạy trên Google Colab."
   ]
  },
  {
   "cell_type": "code",
   "execution_count": 75,
   "metadata": {},
   "outputs": [
    {
     "data": {
      "application/vnd.jupyter.widget-view+json": {
       "model_id": "01e6341bf3bc4125ab09a2135b39e917",
       "version_major": 2,
       "version_minor": 0
      },
      "text/plain": [
       "  0%|          | 0/4 [00:00<?, ?it/s]"
      ]
     },
     "metadata": {},
     "output_type": "display_data"
    },
    {
     "name": "stdout",
     "output_type": "stream",
     "text": [
      "✅ Dữ liệu đã được lưu vào simple_prompts.json\n"
     ]
    }
   ],
   "source": [
    "# Import các thư viện cần thiết\n",
    "import json  # Xử lý dữ liệu JSON\n",
    "import time  # Hỗ trợ delay giữa các request\n",
    "from openai import OpenAI  # Gọi API OpenAI\n",
    "from tqdm.auto import tqdm  # Hiển thị tiến trình chạy\n",
    "from tenacity import retry, stop_after_attempt, wait_exponential  # Hỗ trợ retry khi gặp lỗi\n",
    "\n",
    "# Khởi tạo OpenAI client\n",
    "client = OpenAI()\n",
    "\n",
    "# --------------------------------------\n",
    "# 🔹 HÀM GỌI API OPENAI VỚI CƠ CHẾ RETRY\n",
    "# --------------------------------------\n",
    "@retry(stop=stop_after_attempt(5), wait=wait_exponential(multiplier=2, min=5, max=60))\n",
    "def get_simple_prompt(enhanced_prompt):\n",
    "    \"\"\"\n",
    "    Gọi OpenAI API để đơn giản hóa một prompt đã trích xuất.\n",
    "\n",
    "    Args:\n",
    "        enhanced_prompt (str): Prompt cần đơn giản hóa.\n",
    "\n",
    "    Returns:\n",
    "        str: Phiên bản đơn giản hóa của prompt.\n",
    "    \"\"\"\n",
    "    response = client.chat.completions.create(\n",
    "        model=\"gpt-3.5-turbo\",  # Sử dụng model gpt-3.5-turbo\n",
    "        messages=[\n",
    "            {\"role\": \"system\", \"content\": \"You are a customer service representative helping a customer with a problem.\"},\n",
    "            {\"role\": \"user\", \"content\": f\"ENHANCE PROMPT: {enhanced_prompt}; SIMPLE BASIC PROMPT: \"}\n",
    "        ]\n",
    "    )\n",
    "    \n",
    "    return response.choices[0].message.content\n",
    "\n",
    "# --------------------------------------\n",
    "# 🔹 DANH SÁCH PROMPT ĐẦU VÀO\n",
    "# --------------------------------------\n",
    "prompt_pairs = [\n",
    "    {\"extracted_prompts\": \"How can I reset my password?\"},\n",
    "    {\"extracted_prompts\": \"What are your refund policies?\"},\n",
    "    {\"extracted_prompts\": \"How do I update my account details?\"},\n",
    "    {\"extracted_prompts\": \"Where can I find my order history?\"}\n",
    "]\n",
    "\n",
    "# --------------------------------------\n",
    "# 🔹 XỬ LÝ VÀ GỌI API\n",
    "# --------------------------------------\n",
    "for prompt in tqdm(prompt_pairs):\n",
    "    try:\n",
    "        # Gọi API để lấy phiên bản đơn giản của prompt\n",
    "        prompt['simple_prompt'] = get_simple_prompt(prompt['extracted_prompts'])\n",
    "        time.sleep(2)  # Chờ 2 giây để tránh quá tải API\n",
    "    except Exception as e:\n",
    "        prompt['simple_prompt'] = f\"Error: {str(e)}\"  # Lưu lỗi nếu gặp vấn đề\n",
    "\n",
    "# --------------------------------------\n",
    "# 🔹 LƯU DỮ LIỆU VÀO FILE JSON\n",
    "# --------------------------------------\n",
    "output_file = \"simple_prompts.json\"\n",
    "\n",
    "with open(output_file, 'w') as f:\n",
    "    json.dump(prompt_pairs, f, indent=4)  # Lưu file với format đẹp\n",
    "\n",
    "print(f\"✅ Dữ liệu đã được lưu vào {output_file}\")\n",
    "\n",
    "# --------------------------------------\n",
    "# 🔹 (TÙY CHỌN) TẢI FILE JSON VỀ MÁY TRÊN GOOGLE COLAB\n",
    "# --------------------------------------\n",
    "# Nếu chạy trên Google Colab, có thể tải file xuống bằng đoạn code sau:\n",
    "# from google.colab import files\n",
    "# files.download(output_file)"
   ]
  },
  {
   "cell_type": "markdown",
   "metadata": {},
   "source": [
    "## 6 📌 Mô tả chức năng của chương trình\n",
    "\n",
    "- Chương trình này giúp quản lý dữ liệu huấn luyện bằng cách:\n",
    "-\t1.\tLưu dữ liệu vào file JSON Lines (.jsonl) → Mỗi dòng là một JSON object.\n",
    "-\t2.\tTải dữ liệu từ file .jsonl nếu đã có dữ liệu trước đó.\n",
    "-\t3.\tThêm dữ liệu mới vào file mà không ghi đè toàn bộ dữ liệu cũ."
   ]
  },
  {
   "cell_type": "code",
   "execution_count": 76,
   "metadata": {},
   "outputs": [],
   "source": [
    "# Import các thư viện cần thiết\n",
    "import json  # Xử lý dữ liệu JSON\n",
    "from typing import List, Dict  # Xác định kiểu dữ liệu đầu vào và đầu ra cho các hàm\n",
    "\n",
    "# Định nghĩa đường dẫn file lưu trữ dữ liệu\n",
    "FILE_PATH = \"training_data.jsonl\"\n",
    "\n",
    "# ------------------------------\n",
    "# 🔹 HÀM LƯU DỮ LIỆU VÀO FILE JSONL\n",
    "# ------------------------------\n",
    "\n",
    "def save_training_data(data: List[Dict], output_file: str = FILE_PATH):\n",
    "    \"\"\"\n",
    "    Ghi dữ liệu vào file JSON Lines (.jsonl)\n",
    "    \n",
    "    Args:\n",
    "        data (List[Dict]): Danh sách dữ liệu dạng dictionary cần lưu\n",
    "        output_file (str): Đường dẫn file lưu trữ\n",
    "    \"\"\"\n",
    "    with open(output_file, 'a') as f:  # Mở file ở chế độ 'append' (thêm vào cuối file)\n",
    "        for item in data:\n",
    "            f.write(json.dumps(item) + \"\\n\")  # Ghi từng object JSON trên 1 dòng\n",
    "\n",
    "# ------------------------------\n",
    "# 🔹 HÀM TẢI DỮ LIỆU TỪ FILE JSONL\n",
    "# ------------------------------\n",
    "\n",
    "def load_training_data(file_path: str = FILE_PATH) -> List[Dict]:\n",
    "    \"\"\"\n",
    "    Đọc dữ liệu từ file JSONL nếu file tồn tại\n",
    "\n",
    "    Args:\n",
    "        file_path (str): Đường dẫn file JSONL\n",
    "\n",
    "    Returns:\n",
    "        List[Dict]: Danh sách dữ liệu đã đọc từ file\n",
    "    \"\"\"\n",
    "    try:\n",
    "        with open(file_path, 'r') as f:  # Mở file ở chế độ đọc ('r')\n",
    "            return [json.loads(line) for line in f]  # Đọc từng dòng, chuyển thành JSON object\n",
    "    except (FileNotFoundError, json.JSONDecodeError):  \n",
    "        return []  # Nếu file không tồn tại hoặc có lỗi định dạng, trả về danh sách rỗng\n",
    "\n",
    "# ------------------------------\n",
    "# 🔹 HÀM THÊM DỮ LIỆU MỚI VÀO FILE\n",
    "# ------------------------------\n",
    "\n",
    "def add_training_data(new_data: List[Dict]):\n",
    "    \"\"\"\n",
    "    Thêm dữ liệu mới vào file JSONL mà không ghi đè dữ liệu cũ\n",
    "\n",
    "    Args:\n",
    "        new_data (List[Dict]): Danh sách dữ liệu mới cần thêm\n",
    "    \"\"\"\n",
    "    existing_data = load_training_data()  # Đọc dữ liệu cũ\n",
    "    existing_data.extend(new_data)  # Thêm dữ liệu mới vào danh sách\n",
    "    save_training_data(new_data)  # Chỉ ghi dữ liệu mới, không ghi lại toàn bộ file\n",
    "\n",
    "# ------------------------------\n",
    "# 🔹 VÍ DỤ SỬ DỤNG\n",
    "# ------------------------------\n",
    "\n",
    "prompt_pairs = [\n",
    "    {\"question\": \"How to reset my password?\", \"answer\": \"Go to settings and click reset password.\"},\n",
    "    {\"question\": \"What is the refund policy?\", \"answer\": \"You can request a refund within 30 days.\"}\n",
    "]\n",
    "\n",
    "# Gọi hàm để thêm dữ liệu mới vào file\n",
    "add_training_data(prompt_pairs)"
   ]
  },
  {
   "cell_type": "code",
   "execution_count": 74,
   "metadata": {},
   "outputs": [
    {
     "data": {
      "text/plain": [
       "[{'role': 'system',\n",
       "  'content': 'You are a customer service representative helping a customer with a problem.'},\n",
       " {'role': 'user', 'content': 'Default simple prompt'},\n",
       " {'role': 'assistant', 'content': 'Default enhanced prompt'}]"
      ]
     },
     "execution_count": 74,
     "metadata": {},
     "output_type": "execute_result"
    }
   ],
   "source": [
    "example_data = prompt_pairs[0]  # Lấy phần tử đầu tiên từ danh sách prompt_pairs\n",
    "\n",
    "# Kiểm tra xem các key có tồn tại không trước khi truy xuất\n",
    "simple_prompt = example_data.get(\"simple_prompt\", \"Default simple prompt\")  # Dùng `.get()` để tránh lỗi KeyError\n",
    "enhanced_prompt = example_data.get(\"enhanced_prompt\", \"Default enhanced prompt\")\n",
    "\n",
    "# Tạo danh sách tin nhắn\n",
    "message = [{\n",
    "            \"role\": \"system\",\n",
    "            \"content\": \"You are a customer service representative helping a customer with a problem.\"\n",
    "          },{\n",
    "            \"role\": \"user\", \n",
    "            \"content\": simple_prompt  # Sửa đúng key\n",
    "            },{\n",
    "            \"role\": \"assistant\",\n",
    "            \"content\": enhanced_prompt  # Sửa đúng key\n",
    "            }]\n",
    "\n",
    "message  # Hiển thị kết quả"
   ]
  }
 ],
 "metadata": {
  "kernelspec": {
   "display_name": "Python 3",
   "language": "python",
   "name": "python3"
  },
  "language_info": {
   "codemirror_mode": {
    "name": "ipython",
    "version": 3
   },
   "file_extension": ".py",
   "mimetype": "text/x-python",
   "name": "python",
   "nbconvert_exporter": "python",
   "pygments_lexer": "ipython3",
   "version": "3.11.11"
  }
 },
 "nbformat": 4,
 "nbformat_minor": 2
}
